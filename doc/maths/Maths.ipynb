{
 "cells": [
  {
   "cell_type": "markdown",
   "id": "similar-homeless",
   "metadata": {},
   "source": [
    "# Computing pow and log in the smart contract"
   ]
  },
  {
   "cell_type": "code",
   "execution_count": null,
   "id": "resident-milwaukee",
   "metadata": {},
   "outputs": [],
   "source": [
    "import numpy as np\n",
    "\n",
    "# Typing\n",
    "from numbers import Integral\n",
    "from sage.symbolic.expression import Expression\n",
    "from sage.rings.rational import Rational\n",
    "from sage.rings import real_mpfr\n",
    "from typing import Iterable, Tuple, Union\n",
    "\n",
    "def to_sage(fp: Fixedpoint) -> Rational:\n",
    "    return Integer(fp._mantissa) * Integer(2) ^ Integer(fp._exponent)"
   ]
  },
  {
   "cell_type": "markdown",
   "id": "dimensional-request",
   "metadata": {},
   "source": [
    "## Reference values"
   ]
  },
  {
   "cell_type": "markdown",
   "id": "herbal-buffalo",
   "metadata": {},
   "source": [
    "We are using SageMath for symbolic calculations as much as possible, which allows us to maintain high precision."
   ]
  },
  {
   "cell_type": "code",
   "execution_count": null,
   "id": "liked-collectible",
   "metadata": {},
   "outputs": [],
   "source": [
    "# Reference values are very symbolic\n",
    "ref_base: Expression = exp(10^-4)  # instead of 1.0001: (1 + x ≈ exp(x) when x → 0)\n",
    "print(f'Adjusted basepoint: {ref_base.n(digits=20)} (vs. 1.0001 in Uniswap)')\n",
    "ref_sqrtbase: Expression = ref_base.sqrt()"
   ]
  },
  {
   "cell_type": "markdown",
   "id": "gross-prescription",
   "metadata": {},
   "source": [
    "## Simple log\n",
    "We need to compute $\\lfloor\\log_{b}{\\frac{x}{y}}\\rfloor$ where $x$ and $y$ are relatively close ($\\frac{x}{y} \\in [0.7, 1.5]$)."
   ]
  },
  {
   "cell_type": "code",
   "execution_count": null,
   "id": "adopted-majority",
   "metadata": {},
   "outputs": [],
   "source": [
    "# The exact logarithm we are computing\n",
    "x, y = var('x y')\n",
    "ref_log = floor(log(x / y, ref_base))"
   ]
  },
  {
   "cell_type": "markdown",
   "id": "decreased-density",
   "metadata": {},
   "source": [
    "Our base is deliberately chosen to be a power of $e$, which means that when calculating a logarithm, we can change base to natural and the denominator will simplify: $\\log_{e^{1/c}}{a} = \\frac{\\ln{a}}{\\ln{e^{1/c}}} = c \\ln(a)$.\n",
    "\n",
    "Now we only need to approximate $\\lfloor\\ln(\\frac{x}{y})\\rfloor$.\n",
    "This approximation is due to Arthur, and we currently don’t quite understand how it works, we need to ask him.\n",
    "\n",
    "Cool things that are supposed to be going on here:\n",
    "\n",
    "* This approximation is really good (better than second-degree, worse than third?).\n",
    "* It has one-sided error (required due to `floor`) (that’s probably where 0.0003 comes from).\n",
    "* Somehow, all coefficients involved are integral. Is this some magic?"
   ]
  },
  {
   "cell_type": "code",
   "execution_count": null,
   "id": "beneficial-lounge",
   "metadata": {},
   "outputs": [],
   "source": [
    "def approx_log(x: Integral, y: Integral) -> Integral:\n",
    "    x_plus_y: Integral = x + y\n",
    "    num: Integral = 60003 * (x - y) * x_plus_y\n",
    "    denom: Integral = 2 * (x_plus_y ^ 2 + 2 * x * y)\n",
    "    return num // denom"
   ]
  },
  {
   "cell_type": "code",
   "execution_count": null,
   "id": "portuguese-indianapolis",
   "metadata": {},
   "outputs": [],
   "source": [
    "def test_log_approx(x: Integral, y: Integral) -> bool:\n",
    "    return ref_log(x, y) == approx_log(x, y)\n",
    "\n",
    "def gen_log_inputs() -> Iterable[Tuple[Integral, Integral]]:\n",
    "    min_ratio = 0.7\n",
    "    max_ratio = 1.5\n",
    "    for y in range(1, 10^3):\n",
    "        for ratio in np.linspace(min_ratio, max_ratio, 10, True):\n",
    "            x = int(y * ratio)\n",
    "            if not (min_ratio <= x/y <= max_ratio): continue\n",
    "            yield (x, y)\n",
    "            \n",
    "for (x, y) in gen_log_inputs():\n",
    "    assert test_log_approx(x, y), f'Failed for ({x}, {y}): {ref_log(x, y)} vs. {approx_log(x, y)}'"
   ]
  },
  {
   "cell_type": "markdown",
   "id": "blank-colon",
   "metadata": {},
   "source": [
    "### Taylor series approximation\n",
    "\n",
    "For any function $f$, degree $n$, and point $a$ we have:\n",
    "\n",
    "$$f(x) = \\sum\\limits_{i=0}^n \\frac{1}{n!} f^{(n)}(a) (x-a)^n + \\frac{1}{(n + 1)!} f^{(n+1)}(c) (x - a)^{n+1}$$\n",
    "\n",
    "The latter is the error term, where $c$ is some unknown point between $a$ and $x$. By getting some reasonable bound on the $(n+1)$-st derivative on this interval, we can get a bound on the approximation error."
   ]
  },
  {
   "cell_type": "code",
   "execution_count": null,
   "id": "initial-hammer",
   "metadata": {},
   "outputs": [],
   "source": [
    "a, x, y, z = var('a x y z')\n",
    "log(x / y)(x = (1 + a) * (x + y) / 2, y = (1 - a) * (x + y) / 2)\n",
    "taylor(_, a, 1, 6)(a = x/y)"
   ]
  },
  {
   "cell_type": "code",
   "execution_count": null,
   "id": "automotive-sheriff",
   "metadata": {},
   "outputs": [],
   "source": [
    "taylor(log(x), x, 1, 5)"
   ]
  },
  {
   "cell_type": "markdown",
   "id": "skilled-discovery",
   "metadata": {},
   "source": [
    "## Fast exponentiation"
   ]
  },
  {
   "cell_type": "markdown",
   "id": "numerical-anderson",
   "metadata": {},
   "source": [
    "Our goal is to compute $b^i$ for arbitrary (but, hopefully, not too large) integer $i$.\n",
    "There is a standard trick for fast exponentiation: [Exponentiation by squaring][wiki:fastexp].\n",
    "\n",
    "The basic idea is that to compute $a^b$ we, first of all, represent the power in binary: $b = \\sum\\limits_{i=0}^{\\lfloor\\log_2{b}\\rfloor} b_i 2^i$.\n",
    "Then we use the fact that $a^{c+d} = a^c a^d$ to rewrite:\n",
    "\n",
    "$$a^b = a^{\\sum\\limits_{i=0}^{\\lfloor\\log_2{b}\\rfloor} b_i 2^i} = \\prod\\limits_{i=0}^{\\lfloor\\log_2{b}\\rfloor} a^{b_i 2^i} = \\prod\\limits_{i=0}^{\\lfloor\\log_2{b}\\rfloor} (a^{2^i})^{b_i}$$\n",
    "\n",
    "Note that this is just the product of powers of $a$ corresponding to those bits of $b$ that are set and that those power are easy to compute by repeated squaring.\n",
    "Here is this algorithm in Python:\n",
    "\n",
    "[wiki:fastexp]: https://en.wikipedia.org/wiki/Exponentiation_by_squaring"
   ]
  },
  {
   "cell_type": "code",
   "execution_count": null,
   "id": "certified-groove",
   "metadata": {},
   "outputs": [],
   "source": [
    "def fast_exp(a: Integral, b: Integral) -> Union[Integral, Rational]:\n",
    "    result = 1\n",
    "    power = a if b >= 0 else 1 / a\n",
    "    if b < 0:\n",
    "        b = -b\n",
    "    while b > 0:\n",
    "        if b % 2 == 1:\n",
    "            result *= power\n",
    "        b >>= 1  # warning: this is NOT a bind!\n",
    "        power *= power\n",
    "    return result"
   ]
  },
  {
   "cell_type": "markdown",
   "id": "dynamic-owner",
   "metadata": {},
   "source": [
    "The algorithm above does $\\lfloor\\log_2{b}\\rfloor + 1$ multiplications to compute the powers and multiplies a power into `result` for each bit of $b$ that is set.\n",
    "\n",
    "If we are too lazy, we can precompute all $a^{2^i}$ for the range that we expect to be working with and save those $\\mathcal{O}(\\log b)$ multiplications. There are pros and cons of precomputing:\n",
    "\n",
    "* pro: precomputing gets rid of a bunch of online multiplication;\n",
    "* pro: we can precompute those values with just the right precision that we need, while multiplying online requires knowing $a$ with a high precision from the beginning;\n",
    "* con: it will require storing and accessing those powers."
   ]
  },
  {
   "cell_type": "markdown",
   "id": "alike-breeding",
   "metadata": {},
   "source": [
    "# WIP"
   ]
  },
  {
   "cell_type": "markdown",
   "id": "fancy-chester",
   "metadata": {},
   "source": [
    "`Fixedpoint` is a custom type for fixed-point arithmetic, except that the point is not really fixed as the scaling factor can change as a result of performing arithmetic operations. Also, values of this type track their error."
   ]
  },
  {
   "cell_type": "code",
   "execution_count": null,
   "id": "split-enemy",
   "metadata": {},
   "outputs": [],
   "source": [
    "from fixedpoint import Fixedpoint\n",
    "\n",
    "# Target precision in bits\n",
    "prec = 80\n",
    "\n",
    "approx_sqrtbase = (ref_sqrtbase * 2^prec).round()\n",
    "sqrtbase = Fixedpoint(int(approx_sqrtbase), -prec, Fixedpoint(1, -prec - 1))\n",
    "print(f'Approximated sqrt(basepoint): {sqrtbase}')\n",
    "\n",
    "# sanity check: we are supposed to be precise up to half of our scale\n",
    "assert abs(to_sage(sqrtbase) - ref_sqrtbase).n(10*prec) < to_sage(sqrtbase._error)"
   ]
  },
  {
   "cell_type": "markdown",
   "id": "valid-trailer",
   "metadata": {},
   "source": [
    "---"
   ]
  },
  {
   "cell_type": "code",
   "execution_count": null,
   "id": "competent-netscape",
   "metadata": {},
   "outputs": [],
   "source": [
    "# Scratch space"
   ]
  }
 ],
 "metadata": {
  "kernelspec": {
   "display_name": "SageMath 9.3",
   "language": "sagemath",
   "name": "sagemath"
  },
  "language_info": {
   "codemirror_mode": {
    "name": "ipython",
    "version": 3
   },
   "file_extension": ".py",
   "mimetype": "text/x-python",
   "name": "python",
   "nbconvert_exporter": "python",
   "pygments_lexer": "ipython3",
   "version": "3.8.9"
  }
 },
 "nbformat": 4,
 "nbformat_minor": 5
}
